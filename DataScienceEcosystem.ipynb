{
 "cells": [
  {
   "cell_type": "markdown",
   "id": "98944b8a-abce-4c93-a80c-a3a6c9ac1feb",
   "metadata": {},
   "source": [
    "Data Science Tools and Ecosystem"
   ]
  },
  {
   "cell_type": "markdown",
   "id": "b2f1722b-6271-4451-8542-b729e908c9fe",
   "metadata": {},
   "source": [
    "In this notebook, Data Science Tools and Ecosystem are summarized."
   ]
  },
  {
   "cell_type": "markdown",
   "id": "08c02845-75c6-46e9-9936-7fadd1e2dde1",
   "metadata": {},
   "source": [
    "Some of the popular languages that Data Scientists use are:\n",
    "1. Python\n",
    "2. R\n",
    "3. SQL "
   ]
  },
  {
   "cell_type": "markdown",
   "id": "3b950505-6a96-4154-926a-ed2f035c746e",
   "metadata": {},
   "source": [
    "Some of the commonly used libraries used by Data Scientists include:\n",
    "1. Pandas\n",
    "2. NumPy\n",
    "3. Scikit-Learn"
   ]
  },
  {
   "cell_type": "markdown",
   "id": "fc95085a-d60d-4a6a-a04b-f86b7749eb58",
   "metadata": {},
   "source": [
    "|Data Science Tools|\n",
    "|------------------|\n",
    "|Python            |\n",
    "|R                 |\n",
    "|Jupyter           |"
   ]
  },
  {
   "cell_type": "markdown",
   "id": "321640d5-4252-43ce-b3ab-ac522d0b45dc",
   "metadata": {},
   "source": [
    "## Below are a few examples of evaluating arithmetic expressions in Python"
   ]
  },
  {
   "cell_type": "code",
   "execution_count": 1,
   "id": "afb13c1d-a791-4ffe-bee8-e1f7ed2aa634",
   "metadata": {},
   "outputs": [
    {
     "data": {
      "text/plain": [
       "17"
      ]
     },
     "execution_count": 1,
     "metadata": {},
     "output_type": "execute_result"
    }
   ],
   "source": [
    "(3*4)+5\n",
    "#This a simple arithmetic expression to mutiply then add integers"
   ]
  },
  {
   "cell_type": "code",
   "execution_count": 2,
   "id": "1c23123a-ca42-4ddd-9774-e67598236c09",
   "metadata": {},
   "outputs": [
    {
     "data": {
      "text/plain": [
       "3.3333333333333335"
      ]
     },
     "execution_count": 2,
     "metadata": {},
     "output_type": "execute_result"
    }
   ],
   "source": [
    "200/60\n",
    "#This will convert 200 minutes to hours by diving by 60"
   ]
  },
  {
   "cell_type": "markdown",
   "id": "7b679065-a874-41ac-936e-4fd0cd2a7a68",
   "metadata": {},
   "source": [
    "**Objectives:**\n",
    "\n",
    "- Identify and list popular programming languages used in Data Science.\n",
    "- Recognize commonly used libraries within the Data Science field.\n",
    "- Understand how to create tables in a Jupyter Notebook using Markdown.\n",
    "- Explore top data science tools utilized for various tasks.\n",
    "- Discuss the importance and applications of Jupyter Notebooks in data analysis.\n"
   ]
  },
  {
   "cell_type": "markdown",
   "id": "6a4852ec-3a89-43d1-91ef-b0b920611328",
   "metadata": {},
   "source": [
    "## Author\n",
    "bugra"
   ]
  },
  {
   "cell_type": "code",
   "execution_count": null,
   "id": "d16eb7f8-7006-4273-8bd6-4f5450817177",
   "metadata": {},
   "outputs": [],
   "source": []
  }
 ],
 "metadata": {
  "kernelspec": {
   "display_name": "Python 3 (ipykernel)",
   "language": "python",
   "name": "python3"
  },
  "language_info": {
   "codemirror_mode": {
    "name": "ipython",
    "version": 3
   },
   "file_extension": ".py",
   "mimetype": "text/x-python",
   "name": "python",
   "nbconvert_exporter": "python",
   "pygments_lexer": "ipython3",
   "version": "3.10.9"
  }
 },
 "nbformat": 4,
 "nbformat_minor": 5
}
